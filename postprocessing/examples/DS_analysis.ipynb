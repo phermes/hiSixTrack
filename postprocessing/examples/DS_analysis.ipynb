{
 "cells": [
  {
   "cell_type": "markdown",
   "metadata": {},
   "source": [
    "# hiSixTrack Analyze the losses in the DS clusters"
   ]
  },
  {
   "cell_type": "code",
   "execution_count": 1,
   "metadata": {
    "collapsed": true
   },
   "outputs": [],
   "source": [
    "import numpy as np\n",
    "import pandas as pd\n",
    "import matplotlib.pyplot as plt"
   ]
  },
  {
   "cell_type": "markdown",
   "metadata": {},
   "source": [
    "## Read the losses"
   ]
  },
  {
   "cell_type": "code",
   "execution_count": 2,
   "metadata": {
    "collapsed": true
   },
   "outputs": [],
   "source": [
    "aperl = pd.read_csv('../../runs_0TCLD.0-10um/fort.999',delim_whitespace=True)\n",
    "aperl.columns = ['S','E','A','Z']\n",
    "\n",
    "aperl['chi'] = (aperl['Z']/82.)*(208./aperl['A'])"
   ]
  },
  {
   "cell_type": "code",
   "execution_count": 4,
   "metadata": {
    "collapsed": false
   },
   "outputs": [
    {
     "data": {
      "text/html": [
       "<div>\n",
       "<table border=\"1\" class=\"dataframe\">\n",
       "  <thead>\n",
       "    <tr style=\"text-align: right;\">\n",
       "      <th></th>\n",
       "      <th>S</th>\n",
       "      <th>E</th>\n",
       "      <th>A</th>\n",
       "      <th>Z</th>\n",
       "      <th>chi</th>\n",
       "    </tr>\n",
       "  </thead>\n",
       "  <tbody>\n",
       "    <tr>\n",
       "      <th>1</th>\n",
       "      <td>18.8</td>\n",
       "      <td>5183.9</td>\n",
       "      <td>2</td>\n",
       "      <td>1</td>\n",
       "      <td>1.268293</td>\n",
       "    </tr>\n",
       "    <tr>\n",
       "      <th>2</th>\n",
       "      <td>18.8</td>\n",
       "      <td>73448.2</td>\n",
       "      <td>28</td>\n",
       "      <td>14</td>\n",
       "      <td>1.268293</td>\n",
       "    </tr>\n",
       "    <tr>\n",
       "      <th>3</th>\n",
       "      <td>18.8</td>\n",
       "      <td>10609.0</td>\n",
       "      <td>4</td>\n",
       "      <td>2</td>\n",
       "      <td>1.268293</td>\n",
       "    </tr>\n",
       "    <tr>\n",
       "      <th>4</th>\n",
       "      <td>18.8</td>\n",
       "      <td>10338.0</td>\n",
       "      <td>4</td>\n",
       "      <td>2</td>\n",
       "      <td>1.268293</td>\n",
       "    </tr>\n",
       "    <tr>\n",
       "      <th>5</th>\n",
       "      <td>19.0</td>\n",
       "      <td>10341.5</td>\n",
       "      <td>4</td>\n",
       "      <td>2</td>\n",
       "      <td>1.268293</td>\n",
       "    </tr>\n",
       "    <tr>\n",
       "      <th>6</th>\n",
       "      <td>19.6</td>\n",
       "      <td>10612.3</td>\n",
       "      <td>4</td>\n",
       "      <td>2</td>\n",
       "      <td>1.268293</td>\n",
       "    </tr>\n",
       "    <tr>\n",
       "      <th>7</th>\n",
       "      <td>20.4</td>\n",
       "      <td>5552.5</td>\n",
       "      <td>2</td>\n",
       "      <td>1</td>\n",
       "      <td>1.268293</td>\n",
       "    </tr>\n",
       "    <tr>\n",
       "      <th>8</th>\n",
       "      <td>112.3</td>\n",
       "      <td>9118.0</td>\n",
       "      <td>3</td>\n",
       "      <td>2</td>\n",
       "      <td>1.691057</td>\n",
       "    </tr>\n",
       "    <tr>\n",
       "      <th>9</th>\n",
       "      <td>120.2</td>\n",
       "      <td>4688.7</td>\n",
       "      <td>2</td>\n",
       "      <td>1</td>\n",
       "      <td>1.268293</td>\n",
       "    </tr>\n",
       "  </tbody>\n",
       "</table>\n",
       "</div>"
      ],
      "text/plain": [
       "       S        E   A   Z       chi\n",
       "1   18.8   5183.9   2   1  1.268293\n",
       "2   18.8  73448.2  28  14  1.268293\n",
       "3   18.8  10609.0   4   2  1.268293\n",
       "4   18.8  10338.0   4   2  1.268293\n",
       "5   19.0  10341.5   4   2  1.268293\n",
       "6   19.6  10612.3   4   2  1.268293\n",
       "7   20.4   5552.5   2   1  1.268293\n",
       "8  112.3   9118.0   3   2  1.691057\n",
       "9  120.2   4688.7   2   1  1.268293"
      ]
     },
     "execution_count": 4,
     "metadata": {},
     "output_type": "execute_result"
    }
   ],
   "source": [
    "aperl[1:10]"
   ]
  },
  {
   "cell_type": "code",
   "execution_count": 5,
   "metadata": {
    "collapsed": true
   },
   "outputs": [],
   "source": [
    "# extract data for the DS clusters"
   ]
  },
  {
   "cell_type": "code",
   "execution_count": 6,
   "metadata": {
    "collapsed": true
   },
   "outputs": [],
   "source": [
    "xmin,xmax = 20282.,20350.\n",
    "DS1 = aperl[(aperl.S>xmin) & (aperl.S<xmax)]\n",
    "xmin,xmax = 20374.,20445.\n",
    "DS2 = aperl[(aperl.S>xmin) & (aperl.S<xmax)]"
   ]
  },
  {
   "cell_type": "markdown",
   "metadata": {},
   "source": [
    "## Plot the losses"
   ]
  },
  {
   "cell_type": "code",
   "execution_count": 19,
   "metadata": {
    "collapsed": true
   },
   "outputs": [],
   "source": [
    "%matplotlib inline"
   ]
  },
  {
   "cell_type": "code",
   "execution_count": 23,
   "metadata": {
    "collapsed": false
   },
   "outputs": [
    {
     "data": {
      "image/png": "[encoded data removed]",
      "text/plain": [
       "<matplotlib.figure.Figure at 0x7f1a8becc590>"
      ]
     },
     "metadata": {},
     "output_type": "display_data"
    }
   ],
   "source": [
    "hist, bins = np.histogram(DS1.chi,weights=DS1.A, bins=1000)\n",
    "width = 0.7 * (bins[1] - bins[0])\n",
    "\n",
    "hist = hist.astype('float')\n",
    "\n",
    "center = (bins[:-1] + bins[1:]) / 2\n",
    "plt.bar(center, hist/sum(hist), align='center', width=width)\n",
    "plt.xlim(0.8,1.3)\n",
    "plt.yscale('log')\n",
    "plt.show()"
   ]
  },
  {
   "cell_type": "code",
   "execution_count": 22,
   "metadata": {
    "collapsed": false
   },
   "outputs": [
    {
     "data": {
      "image/png": "[encoded data removed]",
      "text/plain": [
       "<matplotlib.figure.Figure at 0x7f1a8f8dab10>"
      ]
     },
     "metadata": {},
     "output_type": "display_data"
    }
   ],
   "source": [
    "hist, bins = np.histogram(DS2.chi,weights=DS2.A, bins=1000)\n",
    "width = 0.7 * (bins[1] - bins[0])\n",
    "\n",
    "hist = hist.astype('float')\n",
    "\n",
    "center = (bins[:-1] + bins[1:]) / 2\n",
    "plt.bar(center, hist/sum(hist), align='center', width=width)\n",
    "plt.xlim(0.8,1.3)\n",
    "\n",
    "plt.yscale('log')\n",
    "plt.show()"
   ]
  },
  {
   "cell_type": "code",
   "execution_count": null,
   "metadata": {
    "collapsed": true
   },
   "outputs": [],
   "source": []
  }
 ],
 "metadata": {
  "kernelspec": {
   "display_name": "Python 2",
   "language": "python",
   "name": "python2"
  },
  "language_info": {
   "codemirror_mode": {
    "name": "ipython",
    "version": 2
   },
   "file_extension": ".py",
   "mimetype": "text/x-python",
   "name": "python",
   "nbconvert_exporter": "python",
   "pygments_lexer": "ipython2",
   "version": "2.7.11"
  }
 },
 "nbformat": 4,
 "nbformat_minor": 0
}
