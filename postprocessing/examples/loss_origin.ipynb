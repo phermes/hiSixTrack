{
 "metadata": {
  "name": ""
 },
 "nbformat": 3,
 "nbformat_minor": 0,
 "worksheets": [
  {
   "cells": [
    {
     "cell_type": "heading",
     "level": 1,
     "metadata": {},
     "source": [
      "Loss origin"
     ]
    },
    {
     "cell_type": "heading",
     "level": 2,
     "metadata": {},
     "source": [
      "Initialization"
     ]
    },
    {
     "cell_type": "code",
     "collapsed": false,
     "input": [
      "import matplotlib.pyplot as plt\n",
      "import numpy as np\n",
      "import hisix as hs\n",
      "import pandas as pd\n",
      "import glob"
     ],
     "language": "python",
     "metadata": {},
     "outputs": [],
     "prompt_number": 252
    },
    {
     "cell_type": "heading",
     "level": 2,
     "metadata": {},
     "source": [
      "Find origin of losses"
     ]
    },
    {
     "cell_type": "code",
     "collapsed": false,
     "input": [
      "class apertureloss:\n",
      "           \n",
      "    def origin(self,path,s0,s1,nruns=0):\n",
      "        # loop over directories\n",
      "        skipped=0\n",
      "        for i,fname in enumerate(glob.glob(path+\"/run*/\")):\n",
      "            try:\n",
      "                # break if max nrun is given\n",
      "                if nruns>0 and i==nruns:\n",
      "                    break\n",
      "                \n",
      "                # print info\n",
      "                if i%5000==0:\n",
      "                    print 'Reading run', i\n",
      "                \n",
      "                # read aperture losses\n",
      "                aperl         = pd.read_csv(fname+'fort.999.gz', compression='gzip', delim_whitespace=True, header = None)\n",
      "                aperl         = aperl[[5,6,16,17]]\n",
      "                aperl.columns = [\"s\",\"ID\",\"A\",\"Z\"]\n",
      "                aperl         = aperl[ (aperl[\"s\"]>s0) & (aperl[\"s\"]<s1) ]\n",
      "            \n",
      "                # read the particle info\n",
      "                f822          = pd.read_csv(fname+'fort.822.gz', compression='gzip', delim_whitespace=True, header = None)\n",
      "                f822          = f822.drop(0, 1)\n",
      "                f822.columns  = [\"ID\",\"parentID\",\"parentCID\",\"A\",\"Z\",\"E\"]\n",
      "                \n",
      "                # merge the dataframes\n",
      "                pinfonew      = pd.merge(aperl,f822, on=['ID','A','Z'])\n",
      "                \n",
      "                # add pinfo to stack\n",
      "                if hasattr(self, 'pinfo'):\n",
      "                    self.pinfo = pd.concat([self.pinfo,pinfonew])\n",
      "                else:\n",
      "                    self.pinfo = pinfonew\n",
      "            except:\n",
      "                skipped+=1\n",
      "                pass\n",
      "        print 'Read', i, 'jobs'\n",
      "        print 'Skipped', skipped, 'jobs'\n",
      "        "
     ],
     "language": "python",
     "metadata": {},
     "outputs": [],
     "prompt_number": 253
    },
    {
     "cell_type": "code",
     "collapsed": false,
     "input": [
      "a = apertureloss()"
     ],
     "language": "python",
     "metadata": {},
     "outputs": [],
     "prompt_number": 254
    },
    {
     "cell_type": "code",
     "collapsed": false,
     "input": [
      "a.origin('../../../runs_2TCLD.0-10um/',20300.,20350.,nruns=0)"
     ],
     "language": "python",
     "metadata": {},
     "outputs": [
      {
       "output_type": "stream",
       "stream": "stdout",
       "text": [
        "Reading run 0\n",
        "Reading run"
       ]
      },
      {
       "output_type": "stream",
       "stream": "stdout",
       "text": [
        " 1000\n",
        "Reading run"
       ]
      },
      {
       "output_type": "stream",
       "stream": "stdout",
       "text": [
        " 2000\n",
        "Reading run"
       ]
      },
      {
       "output_type": "stream",
       "stream": "stdout",
       "text": [
        " 3000\n",
        "Reading run"
       ]
      },
      {
       "output_type": "stream",
       "stream": "stdout",
       "text": [
        " 4000\n",
        "Reading run"
       ]
      },
      {
       "output_type": "stream",
       "stream": "stdout",
       "text": [
        " 5000\n",
        "Reading run"
       ]
      },
      {
       "output_type": "stream",
       "stream": "stdout",
       "text": [
        " 6000\n",
        "Reading run"
       ]
      },
      {
       "output_type": "stream",
       "stream": "stdout",
       "text": [
        " 7000\n",
        "Reading run"
       ]
      },
      {
       "output_type": "stream",
       "stream": "stdout",
       "text": [
        " 8000\n",
        "Reading run"
       ]
      },
      {
       "output_type": "stream",
       "stream": "stdout",
       "text": [
        " 9000\n",
        "Reading run"
       ]
      },
      {
       "output_type": "stream",
       "stream": "stdout",
       "text": [
        " 10000\n",
        "Reading run"
       ]
      },
      {
       "output_type": "stream",
       "stream": "stdout",
       "text": [
        " 11000\n",
        "Reading run"
       ]
      },
      {
       "output_type": "stream",
       "stream": "stdout",
       "text": [
        " 12000\n",
        "Reading run"
       ]
      },
      {
       "output_type": "stream",
       "stream": "stdout",
       "text": [
        " 13000\n",
        "Reading run"
       ]
      },
      {
       "output_type": "stream",
       "stream": "stdout",
       "text": [
        " 14000\n",
        "Reading run"
       ]
      },
      {
       "output_type": "stream",
       "stream": "stdout",
       "text": [
        " 15000\n",
        "Reading run"
       ]
      },
      {
       "output_type": "stream",
       "stream": "stdout",
       "text": [
        " 16000\n",
        "Reading run"
       ]
      },
      {
       "output_type": "stream",
       "stream": "stdout",
       "text": [
        " 17000\n",
        "Reading run"
       ]
      },
      {
       "output_type": "stream",
       "stream": "stdout",
       "text": [
        " 18000\n",
        "Reading run"
       ]
      },
      {
       "output_type": "stream",
       "stream": "stdout",
       "text": [
        " 19000\n",
        "Reading run"
       ]
      },
      {
       "output_type": "stream",
       "stream": "stdout",
       "text": [
        " 20000\n",
        "Reading run"
       ]
      },
      {
       "output_type": "stream",
       "stream": "stdout",
       "text": [
        " 21000\n",
        "Reading run"
       ]
      },
      {
       "output_type": "stream",
       "stream": "stdout",
       "text": [
        " 22000\n",
        "Reading run"
       ]
      },
      {
       "output_type": "stream",
       "stream": "stdout",
       "text": [
        " 23000\n",
        "Reading run"
       ]
      },
      {
       "output_type": "stream",
       "stream": "stdout",
       "text": [
        " 24000\n",
        "Reading run"
       ]
      },
      {
       "output_type": "stream",
       "stream": "stdout",
       "text": [
        " 25000\n",
        "Reading run"
       ]
      },
      {
       "output_type": "stream",
       "stream": "stdout",
       "text": [
        " 26000\n",
        "Reading run"
       ]
      },
      {
       "output_type": "stream",
       "stream": "stdout",
       "text": [
        " 27000\n",
        "Reading run"
       ]
      },
      {
       "output_type": "stream",
       "stream": "stdout",
       "text": [
        " 28000\n",
        "Reading run"
       ]
      },
      {
       "output_type": "stream",
       "stream": "stdout",
       "text": [
        " 29000\n",
        "Reading run"
       ]
      },
      {
       "output_type": "stream",
       "stream": "stdout",
       "text": [
        " 30000\n",
        "Reading run"
       ]
      },
      {
       "output_type": "stream",
       "stream": "stdout",
       "text": [
        " 31000\n",
        "Read"
       ]
      },
      {
       "output_type": "stream",
       "stream": "stdout",
       "text": [
        " 31916 jobs\n",
        "Skipped 2995 jobs\n"
       ]
      }
     ],
     "prompt_number": 255
    },
    {
     "cell_type": "code",
     "collapsed": false,
     "input": [
      "# check which particles are not generated from the TCLD\n",
      "a.pinfo[a.pinfo[\"parentCID\"]!=48][[\"ID\",\"A\",\"Z\",\"parentID\",\"parentCID\",\"E\",\"s\"]]"
     ],
     "language": "python",
     "metadata": {},
     "outputs": [
      {
       "html": [
        "<div style=\"max-height:1000px;max-width:1500px;overflow:auto;\">\n",
        "<table border=\"1\" class=\"dataframe\">\n",
        "  <thead>\n",
        "    <tr style=\"text-align: right;\">\n",
        "      <th></th>\n",
        "      <th>ID</th>\n",
        "      <th>A</th>\n",
        "      <th>Z</th>\n",
        "      <th>parentID</th>\n",
        "      <th>parentCID</th>\n",
        "      <th>E</th>\n",
        "      <th>s</th>\n",
        "    </tr>\n",
        "  </thead>\n",
        "  <tbody>\n",
        "    <tr>\n",
        "      <th>0</th>\n",
        "      <td> 1640</td>\n",
        "      <td> 3</td>\n",
        "      <td> 1</td>\n",
        "      <td>   8</td>\n",
        "      <td> 42</td>\n",
        "      <td> 7334028.194797</td>\n",
        "      <td> 20318.6</td>\n",
        "    </tr>\n",
        "    <tr>\n",
        "      <th>0</th>\n",
        "      <td>  703</td>\n",
        "      <td> 3</td>\n",
        "      <td> 1</td>\n",
        "      <td>  56</td>\n",
        "      <td> 30</td>\n",
        "      <td> 7651044.214581</td>\n",
        "      <td> 20301.7</td>\n",
        "    </tr>\n",
        "    <tr>\n",
        "      <th>0</th>\n",
        "      <td> 1560</td>\n",
        "      <td> 3</td>\n",
        "      <td> 1</td>\n",
        "      <td> 149</td>\n",
        "      <td> 42</td>\n",
        "      <td> 7271248.182334</td>\n",
        "      <td> 20323.9</td>\n",
        "    </tr>\n",
        "    <tr>\n",
        "      <th>0</th>\n",
        "      <td> 1352</td>\n",
        "      <td> 3</td>\n",
        "      <td> 1</td>\n",
        "      <td> 132</td>\n",
        "      <td> 30</td>\n",
        "      <td> 7396776.194341</td>\n",
        "      <td> 20310.6</td>\n",
        "    </tr>\n",
        "    <tr>\n",
        "      <th>0</th>\n",
        "      <td> 1594</td>\n",
        "      <td> 3</td>\n",
        "      <td> 1</td>\n",
        "      <td> 114</td>\n",
        "      <td> 39</td>\n",
        "      <td> 7173600.288259</td>\n",
        "      <td> 20337.5</td>\n",
        "    </tr>\n",
        "    <tr>\n",
        "      <th>0</th>\n",
        "      <td> 1672</td>\n",
        "      <td> 3</td>\n",
        "      <td> 1</td>\n",
        "      <td> 109</td>\n",
        "      <td> 39</td>\n",
        "      <td> 7254505.998144</td>\n",
        "      <td> 20325.5</td>\n",
        "    </tr>\n",
        "    <tr>\n",
        "      <th>0</th>\n",
        "      <td> 1613</td>\n",
        "      <td> 3</td>\n",
        "      <td> 1</td>\n",
        "      <td>  25</td>\n",
        "      <td> 42</td>\n",
        "      <td> 7233344.223533</td>\n",
        "      <td> 20328.4</td>\n",
        "    </tr>\n",
        "    <tr>\n",
        "      <th>0</th>\n",
        "      <td> 1664</td>\n",
        "      <td> 3</td>\n",
        "      <td> 1</td>\n",
        "      <td>   2</td>\n",
        "      <td> 42</td>\n",
        "      <td> 7284382.341241</td>\n",
        "      <td> 20322.6</td>\n",
        "    </tr>\n",
        "    <tr>\n",
        "      <th>0</th>\n",
        "      <td> 1547</td>\n",
        "      <td> 3</td>\n",
        "      <td> 1</td>\n",
        "      <td>  24</td>\n",
        "      <td> 42</td>\n",
        "      <td> 7259914.086692</td>\n",
        "      <td> 20325.1</td>\n",
        "    </tr>\n",
        "    <tr>\n",
        "      <th>0</th>\n",
        "      <td> 1632</td>\n",
        "      <td> 3</td>\n",
        "      <td> 1</td>\n",
        "      <td>  40</td>\n",
        "      <td> 42</td>\n",
        "      <td> 7188391.510956</td>\n",
        "      <td> 20335.1</td>\n",
        "    </tr>\n",
        "    <tr>\n",
        "      <th>0</th>\n",
        "      <td> 1663</td>\n",
        "      <td> 3</td>\n",
        "      <td> 1</td>\n",
        "      <td>   3</td>\n",
        "      <td> 42</td>\n",
        "      <td> 7189535.193871</td>\n",
        "      <td> 20335.2</td>\n",
        "    </tr>\n",
        "    <tr>\n",
        "      <th>0</th>\n",
        "      <td> 1637</td>\n",
        "      <td> 3</td>\n",
        "      <td> 1</td>\n",
        "      <td>  96</td>\n",
        "      <td> 42</td>\n",
        "      <td> 7308525.523632</td>\n",
        "      <td> 20320.8</td>\n",
        "    </tr>\n",
        "    <tr>\n",
        "      <th>0</th>\n",
        "      <td>  391</td>\n",
        "      <td> 3</td>\n",
        "      <td> 1</td>\n",
        "      <td>  26</td>\n",
        "      <td> 30</td>\n",
        "      <td> 7339347.091336</td>\n",
        "      <td> 20313.5</td>\n",
        "    </tr>\n",
        "    <tr>\n",
        "      <th>7</th>\n",
        "      <td> 1623</td>\n",
        "      <td> 3</td>\n",
        "      <td> 1</td>\n",
        "      <td>  77</td>\n",
        "      <td> 39</td>\n",
        "      <td> 7237589.307530</td>\n",
        "      <td> 20327.1</td>\n",
        "    </tr>\n",
        "    <tr>\n",
        "      <th>0</th>\n",
        "      <td> 1605</td>\n",
        "      <td> 3</td>\n",
        "      <td> 1</td>\n",
        "      <td> 119</td>\n",
        "      <td> 36</td>\n",
        "      <td> 7164529.867933</td>\n",
        "      <td> 20335.0</td>\n",
        "    </tr>\n",
        "    <tr>\n",
        "      <th>0</th>\n",
        "      <td> 1085</td>\n",
        "      <td> 3</td>\n",
        "      <td> 1</td>\n",
        "      <td>  94</td>\n",
        "      <td> 30</td>\n",
        "      <td> 7162626.672912</td>\n",
        "      <td> 20335.6</td>\n",
        "    </tr>\n",
        "  </tbody>\n",
        "</table>\n",
        "<p>16 rows \u00d7 7 columns</p>\n",
        "</div>"
       ],
       "metadata": {},
       "output_type": "pyout",
       "prompt_number": 258,
       "text": [
        "     ID  A  Z  parentID  parentCID               E        s\n",
        "0  1640  3  1         8         42  7334028.194797  20318.6\n",
        "0   703  3  1        56         30  7651044.214581  20301.7\n",
        "0  1560  3  1       149         42  7271248.182334  20323.9\n",
        "0  1352  3  1       132         30  7396776.194341  20310.6\n",
        "0  1594  3  1       114         39  7173600.288259  20337.5\n",
        "0  1672  3  1       109         39  7254505.998144  20325.5\n",
        "0  1613  3  1        25         42  7233344.223533  20328.4\n",
        "0  1664  3  1         2         42  7284382.341241  20322.6\n",
        "0  1547  3  1        24         42  7259914.086692  20325.1\n",
        "0  1632  3  1        40         42  7188391.510956  20335.1\n",
        "0  1663  3  1         3         42  7189535.193871  20335.2\n",
        "0  1637  3  1        96         42  7308525.523632  20320.8\n",
        "0   391  3  1        26         30  7339347.091336  20313.5\n",
        "7  1623  3  1        77         39  7237589.307530  20327.1\n",
        "0  1605  3  1       119         36  7164529.867933  20335.0\n",
        "0  1085  3  1        94         30  7162626.672912  20335.6\n",
        "\n",
        "[16 rows x 7 columns]"
       ]
      }
     ],
     "prompt_number": 258
    },
    {
     "cell_type": "code",
     "collapsed": false,
     "input": [
      "a.pinfo.parentCID.hist()\n",
      "xlabel('collimator id');\n",
      "ylabel('abundance');"
     ],
     "language": "python",
     "metadata": {},
     "outputs": [
      {
       "metadata": {},
       "output_type": "display_data",
       "png": "[encoded data removed]",
       "text": [
        "<matplotlib.figure.Figure at 0x7f02064e7810>"
       ]
      }
     ],
     "prompt_number": 265
    }
   ],
   "metadata": {}
  }
 ]
}