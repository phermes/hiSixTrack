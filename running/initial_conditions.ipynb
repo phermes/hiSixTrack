{
 "cells": [
  {
   "cell_type": "code",
   "execution_count": 1,
   "metadata": {
    "collapsed": false
   },
   "outputs": [],
   "source": [
    "import numpy as np\n",
    "import pandas as pd\n",
    "import matplotlib.pyplot as plt\n",
    "import get_initial"
   ]
  },
  {
   "cell_type": "markdown",
   "metadata": {},
   "source": [
    "define the TCP half gap [cm] and the range of impact parameters. specify the path of the reference simulation"
   ]
  },
  {
   "cell_type": "code",
   "execution_count": 7,
   "metadata": {
    "collapsed": true
   },
   "outputs": [],
   "source": [
    "# TCP half gap\n",
    "xtcp  = 1.513755076E-01   # 5.7 sigma\n",
    "\n",
    "# range of impact parameters\n",
    "b0,b1 = 0.9, 1.1\n",
    "\n",
    "# path to reference simulation\n",
    "path  = '../../initial/'          # 5.7 sigma"
   ]
  },
  {
   "cell_type": "markdown",
   "metadata": {},
   "source": [
    "get the initial conditions in the chosen range of impact parameters"
   ]
  },
  {
   "cell_type": "code",
   "execution_count": 8,
   "metadata": {
    "collapsed": false
   },
   "outputs": [
    {
     "name": "stdout",
     "output_type": "stream",
     "text": [
      "-->  Running get_initial in directory: ../../initial/\n",
      "-->  Selected impact parameters between 0.9 um and 1.1 um\n",
      "-->  Impact file found: lhc_coupling_ini001_fort.67.gz\n",
      "-->  Impact file directory: ../../initial/run_00001/\n",
      "-->  Analzying run 999 / 1000 -->  Finalizing\n",
      "-->  Written lines:\n",
      "-->  Left: 87 Right:106\n",
      "-->  Done\n"
     ]
    }
   ],
   "source": [
    "get_initial.main(path,b0,b1,xtcp)"
   ]
  },
  {
   "cell_type": "markdown",
   "metadata": {},
   "source": [
    "write the initial.dat file for 6.4 mio particles"
   ]
  },
  {
   "cell_type": "code",
   "execution_count": 9,
   "metadata": {
    "collapsed": false
   },
   "outputs": [
    {
     "name": "stdout",
     "output_type": "stream",
     "text": [
      "-->  WARNING:\n",
      "-->  function generate_initialdat depreciated\n",
      "-->  using generate_initial instead\n",
      "-->  Sampling distribution for particles starting from both jaws\n",
      "-->  [--------------------] (100.0%)\n"
     ]
    }
   ],
   "source": [
    "get_initial.generate_initialdat(path,4500000)"
   ]
  },
  {
   "cell_type": "code",
   "execution_count": null,
   "metadata": {
    "collapsed": true
   },
   "outputs": [],
   "source": []
  }
 ],
 "metadata": {
  "anaconda-cloud": {},
  "kernelspec": {
   "display_name": "Python [default]",
   "language": "python",
   "name": "python2"
  },
  "language_info": {
   "codemirror_mode": {
    "name": "ipython",
    "version": 2
   },
   "file_extension": ".py",
   "mimetype": "text/x-python",
   "name": "python",
   "nbconvert_exporter": "python",
   "pygments_lexer": "ipython2",
   "version": "2.7.12"
  }
 },
 "nbformat": 4,
 "nbformat_minor": 0
}
